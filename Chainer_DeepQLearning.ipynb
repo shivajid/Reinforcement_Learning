{
 "cells": [
  {
   "cell_type": "code",
   "execution_count": 2,
   "metadata": {
    "collapsed": true
   },
   "outputs": [],
   "source": [
    "import chainer\n",
    "import chainer.functions as F\n",
    "import chainer.links as L\n",
    "import chainerrl\n",
    "import gym\n",
    "import numpy as np"
   ]
  },
  {
   "cell_type": "code",
   "execution_count": 3,
   "metadata": {
    "collapsed": false
   },
   "outputs": [
    {
     "name": "stderr",
     "output_type": "stream",
     "text": [
      "[2017-09-19 20:21:53,276] Making new env: CartPole-v0\n"
     ]
    },
    {
     "name": "stdout",
     "output_type": "stream",
     "text": [
      "('observation space:', Box(4,))\n",
      "('action space:', Discrete(2))\n",
      "('initial observation:', array([-0.03789894,  0.0038022 ,  0.0068747 , -0.048693  ]))\n",
      "('next observation:', array([-0.0378229 , -0.19141765,  0.00590084,  0.24615101]))\n",
      "('reward:', 1.0)\n",
      "('done:', False)\n",
      "('info:', {})\n"
     ]
    }
   ],
   "source": [
    "env = gym.make('CartPole-v0')\n",
    "print('observation space:', env.observation_space)\n",
    "print('action space:', env.action_space)\n",
    "\n",
    "obs = env.reset()\n",
    "#env.render()\n",
    "print('initial observation:', obs)\n",
    "\n",
    "action = env.action_space.sample()\n",
    "obs, r, done, info = env.step(action)\n",
    "print('next observation:', obs)\n",
    "print('reward:', r)\n",
    "print('done:', done)\n",
    "print('info:', info)"
   ]
  },
  {
   "cell_type": "code",
   "execution_count": 4,
   "metadata": {
    "collapsed": true
   },
   "outputs": [],
   "source": [
    "obs_size = env.observation_space.shape[0]\n",
    "n_actions = env.action_space.n"
   ]
  },
  {
   "cell_type": "code",
   "execution_count": 5,
   "metadata": {
    "collapsed": true
   },
   "outputs": [],
   "source": [
    "q_func = chainerrl.q_functions.FCStateQFunctionWithDiscreteAction(\n",
    "    obs_size, n_actions,\n",
    "    n_hidden_layers=2, n_hidden_channels=50)"
   ]
  },
  {
   "cell_type": "code",
   "execution_count": 6,
   "metadata": {
    "collapsed": false
   },
   "outputs": [],
   "source": [
    "optimizer = chainer.optimizers.Adam(eps=1e-2)\n",
    "optimizer.setup(q_func)"
   ]
  },
  {
   "cell_type": "code",
   "execution_count": 7,
   "metadata": {
    "collapsed": true
   },
   "outputs": [],
   "source": [
    "# Set the discount factor that discounts future rewards.\n",
    "gamma = 0.95"
   ]
  },
  {
   "cell_type": "code",
   "execution_count": 8,
   "metadata": {
    "collapsed": false
   },
   "outputs": [],
   "source": [
    "#Use epsilon-greedy for exploration\n",
    "explorer = chainerrl.explorers.ConstantEpsilonGreedy(\n",
    "    epsilon=0.3, random_action_func=env.action_space.sample)\n"
   ]
  },
  {
   "cell_type": "code",
   "execution_count": 9,
   "metadata": {
    "collapsed": true
   },
   "outputs": [],
   "source": [
    "# DQN uses Experience Replay.\n",
    "# Specify a replay buffer and its capacity.\n",
    "replay_buffer = chainerrl.replay_buffer.ReplayBuffer(capacity=10 ** 6)\n"
   ]
  },
  {
   "cell_type": "code",
   "execution_count": 10,
   "metadata": {
    "collapsed": true
   },
   "outputs": [],
   "source": [
    "# Since observations from CartPole-v0 is numpy.float64 while\n",
    "# Chainer only accepts numpy.float32 by default, specify\n",
    "# a converter as a feature extractor function phi.\n",
    "phi = lambda x: x.astype(np.float32, copy=False)\n"
   ]
  },
  {
   "cell_type": "code",
   "execution_count": 11,
   "metadata": {
    "collapsed": true
   },
   "outputs": [],
   "source": [
    "# Now create an agent that will interact with the environment.\n",
    "agent = chainerrl.agents.DoubleDQN(\n",
    "    q_func, optimizer, replay_buffer, gamma, explorer,\n",
    "    replay_start_size=500, update_interval=1,\n",
    "    target_update_interval=100, phi=phi)"
   ]
  },
  {
   "cell_type": "code",
   "execution_count": 12,
   "metadata": {
    "collapsed": false
   },
   "outputs": [
    {
     "name": "stdout",
     "output_type": "stream",
     "text": [
      "('episode:', 10, 'R:', 9.0, 'statistics:', [(u'average_q', -0.02210699027348437), (u'average_loss', 0)])\n",
      "('episode:', 20, 'R:', 8.0, 'statistics:', [(u'average_q', -0.04065060468379197), (u'average_loss', 0)])\n",
      "('episode:', 30, 'R:', 16.0, 'statistics:', [(u'average_q', -0.05744586046366472), (u'average_loss', 0)])\n",
      "('episode:', 40, 'R:', 13.0, 'statistics:', [(u'average_q', -0.07290433053616992), (u'average_loss', 0)])\n",
      "('episode:', 50, 'R:', 12.0, 'statistics:', [(u'average_q', -0.03458843703789683), (u'average_loss', 0.1234621904767346)])\n",
      "('episode:', 60, 'R:', 10.0, 'statistics:', [(u'average_q', 0.10075702616147279), (u'average_loss', 0.22860829044088962)])\n",
      "('episode:', 70, 'R:', 9.0, 'statistics:', [(u'average_q', 0.3482971352422558), (u'average_loss', 0.2680381093193151)])\n",
      "('episode:', 80, 'R:', 12.0, 'statistics:', [(u'average_q', 0.6775768589941548), (u'average_loss', 0.29100983285419463)])\n",
      "('episode:', 90, 'R:', 10.0, 'statistics:', [(u'average_q', 1.049088807338526), (u'average_loss', 0.29154596953415757)])\n",
      "('episode:', 100, 'R:', 9.0, 'statistics:', [(u'average_q', 1.4766874453743122), (u'average_loss', 0.28545952459038276)])\n",
      "('episode:', 110, 'R:', 10.0, 'statistics:', [(u'average_q', 2.0366824339053053), (u'average_loss', 0.27867439540021705)])\n",
      "('episode:', 120, 'R:', 35.0, 'statistics:', [(u'average_q', 3.5404775222909928), (u'average_loss', 0.23210973402558363)])\n",
      "('episode:', 130, 'R:', 75.0, 'statistics:', [(u'average_q', 6.077213244417117), (u'average_loss', 0.19958038393362756)])\n",
      "('episode:', 140, 'R:', 11.0, 'statistics:', [(u'average_q', 7.338095105252314), (u'average_loss', 0.1839437294824419)])\n",
      "('episode:', 150, 'R:', 11.0, 'statistics:', [(u'average_q', 8.04398657319106), (u'average_loss', 0.2490883894955248)])\n",
      "('episode:', 160, 'R:', 10.0, 'statistics:', [(u'average_q', 8.846159262508312), (u'average_loss', 0.3534345155391108)])\n",
      "('episode:', 170, 'R:', 9.0, 'statistics:', [(u'average_q', 9.548220919062635), (u'average_loss', 0.34259971832133623)])\n",
      "('episode:', 180, 'R:', 9.0, 'statistics:', [(u'average_q', 10.275303257097159), (u'average_loss', 0.4829744717393688)])\n",
      "('episode:', 190, 'R:', 9.0, 'statistics:', [(u'average_q', 10.994959852487206), (u'average_loss', 0.5615159806257073)])\n",
      "('episode:', 200, 'R:', 12.0, 'statistics:', [(u'average_q', 11.711499753037474), (u'average_loss', 0.5783433326932801)])\n",
      "Finished.\n"
     ]
    }
   ],
   "source": [
    "n_episodes = 200\n",
    "max_episode_len = 200\n",
    "for i in range(1, n_episodes + 1):\n",
    "    obs = env.reset()\n",
    "    reward = 0\n",
    "    done = False\n",
    "    R = 0  # return (sum of rewards)\n",
    "    t = 0  # time step\n",
    "    while not done and t < max_episode_len:\n",
    "        # Uncomment to watch the behaviour\n",
    "        # env.render()\n",
    "        action = agent.act_and_train(obs, reward)\n",
    "        obs, reward, done, _ = env.step(action)\n",
    "        R += reward\n",
    "        t += 1\n",
    "    if i % 10 == 0:\n",
    "        print('episode:', i,\n",
    "              'R:', R,\n",
    "              'statistics:', agent.get_statistics())\n",
    "    agent.stop_episode_and_train(obs, reward, done)\n",
    "print('Finished.')"
   ]
  },
  {
   "cell_type": "code",
   "execution_count": 13,
   "metadata": {
    "collapsed": false
   },
   "outputs": [
    {
     "name": "stdout",
     "output_type": "stream",
     "text": [
      "('test episode:', 0, 'R:', 9.0)\n",
      "('test episode:', 1, 'R:', 8.0)\n",
      "('test episode:', 2, 'R:', 10.0)\n",
      "('test episode:', 3, 'R:', 8.0)\n",
      "('test episode:', 4, 'R:', 8.0)\n",
      "('test episode:', 5, 'R:', 10.0)\n",
      "('test episode:', 6, 'R:', 9.0)\n",
      "('test episode:', 7, 'R:', 10.0)\n",
      "('test episode:', 8, 'R:', 10.0)\n",
      "('test episode:', 9, 'R:', 10.0)\n"
     ]
    }
   ],
   "source": [
    "for i in range(10):\n",
    "    obs = env.reset()\n",
    "    done = False\n",
    "    R = 0\n",
    "    t = 0\n",
    "    while not done and t < 200:\n",
    "        env.render()\n",
    "        action = agent.act(obs)\n",
    "        obs, r, done, _ = env.step(action)\n",
    "        R += r\n",
    "        t += 1\n",
    "    print('test episode:', i, 'R:', R)\n",
    "    agent.stop_episode()"
   ]
  },
  {
   "cell_type": "code",
   "execution_count": 14,
   "metadata": {
    "collapsed": true
   },
   "outputs": [],
   "source": [
    "# Save an agent to the 'agent' directory\n",
    "agent.save('agent')"
   ]
  },
  {
   "cell_type": "code",
   "execution_count": 15,
   "metadata": {
    "collapsed": false
   },
   "outputs": [
    {
     "name": "stdout",
     "output_type": "stream",
     "text": [
      "\u001b[34mAirbnb\u001b[m\u001b[m/\r\n",
      "\u001b[31mAnaconda.sh\u001b[m\u001b[m*\r\n",
      "\u001b[31mAnaconda3-4.2.0-Linux-x86_64.sh\u001b[m\u001b[m*\r\n",
      "\u001b[34mAndroidStudioProjects\u001b[m\u001b[m/\r\n",
      "\u001b[34mApplications\u001b[m\u001b[m/\r\n",
      "\u001b[34mAurius Expense\u001b[m\u001b[m/\r\n",
      "\u001b[34mBurningMan\u001b[m\u001b[m/\r\n",
      "\u001b[34mCarND-Keras-Lab\u001b[m\u001b[m/\r\n",
      "ChainerRL_Pole.ipynb\r\n",
      "\u001b[34mCooking\u001b[m\u001b[m/\r\n",
      "\u001b[34mCreative Cloud Files\u001b[m\u001b[m/\r\n",
      "\u001b[34mDLPython\u001b[m\u001b[m/\r\n",
      "\u001b[34mDeep-Learning-Experiments\u001b[m\u001b[m/\r\n",
      "\u001b[34mDeepLearning_Presentation\u001b[m\u001b[m/\r\n",
      "DeepLearning_Presentation.tar.gz\r\n",
      "\u001b[34mDesktop\u001b[m\u001b[m/\r\n",
      "Dockerfile.devel\r\n",
      "\u001b[34mDocuments\u001b[m\u001b[m/\r\n",
      "\u001b[34mDownloads\u001b[m\u001b[m/\r\n",
      "\u001b[34mDropbox\u001b[m\u001b[m/\r\n",
      "FullSizeRender.jpg\r\n",
      "\u001b[34mHtml\u001b[m\u001b[m/\r\n",
      "\u001b[34mHuman_Level_Control_through_Deep_Reinforcement_Learning\u001b[m\u001b[m/\r\n",
      "IMG_0611.m4v\r\n",
      "\u001b[34mIOT\u001b[m\u001b[m/\r\n",
      "\u001b[34mIdeaProjects\u001b[m\u001b[m/\r\n",
      "\u001b[34mIdeas\u001b[m\u001b[m/\r\n",
      "\u001b[34mJSAnimation\u001b[m\u001b[m/\r\n",
      "\u001b[34mLibrary\u001b[m\u001b[m/\r\n",
      "\u001b[34mLinh\u001b[m\u001b[m/\r\n",
      "\u001b[34mMedical\u001b[m\u001b[m/\r\n",
      "\u001b[34mMedical Receipts\u001b[m\u001b[m/\r\n",
      "\u001b[34mMovies\u001b[m\u001b[m/\r\n",
      "\u001b[34mMusic\u001b[m\u001b[m/\r\n",
      "\u001b[34mNotes\u001b[m\u001b[m/\r\n",
      "\u001b[34mNumpy\u001b[m\u001b[m/\r\n",
      "\u001b[34mPayments\u001b[m\u001b[m/\r\n",
      "\u001b[34mPictures\u001b[m\u001b[m/\r\n",
      "Presentation2.pptx\r\n",
      "\u001b[34mPublic\u001b[m\u001b[m/\r\n",
      "\u001b[34mPycharmProjects\u001b[m\u001b[m/\r\n",
      "\u001b[30m\u001b[43mQt\u001b[m\u001b[m/\r\n",
      "\u001b[34mROS\u001b[m\u001b[m/\r\n",
      "\u001b[34mRobotics\u001b[m\u001b[m/\r\n",
      "Shivaji_photo.jpg\r\n",
      "\u001b[34mStripe\u001b[m\u001b[m/\r\n",
      "\u001b[34mTestPhotos\u001b[m\u001b[m/\r\n",
      "\u001b[34mTraffic-Tickets\u001b[m\u001b[m/\r\n",
      "\u001b[34mUdacity\u001b[m\u001b[m/\r\n",
      "Untitled.ipynb\r\n",
      "Untitled1.ipynb\r\n",
      "Untitled2.ipynb\r\n",
      "Untitled3.ipynb\r\n",
      "Untitled4.ipynb\r\n",
      "Untitled5.ipynb\r\n",
      "Untitled6.ipynb\r\n",
      "Untitled7.ipynb\r\n",
      "Untitled8.ipynb\r\n",
      "\u001b[34mVisaPaymentGateway\u001b[m\u001b[m/\r\n",
      "\u001b[34mVisa_Payment_Gateway\u001b[m\u001b[m/\r\n",
      "\u001b[34magent\u001b[m\u001b[m/\r\n",
      "\u001b[34mamazon-aws\u001b[m\u001b[m/\r\n",
      "\u001b[34manaconda\u001b[m\u001b[m/\r\n",
      "\u001b[34manaconda3\u001b[m\u001b[m/\r\n",
      "\u001b[34mangular-quickstart\u001b[m\u001b[m/\r\n",
      "\u001b[34mapache-maven-3.3.9\u001b[m\u001b[m/\r\n",
      "\u001b[34mapache-tomcat-9.0.0.M15\u001b[m\u001b[m/\r\n",
      "\u001b[34mapple_dev_projects\u001b[m\u001b[m/\r\n",
      "\u001b[34marduino\u001b[m\u001b[m/\r\n",
      "\u001b[34marrow\u001b[m\u001b[m/\r\n",
      "aurius_logo.jpg\r\n",
      "\u001b[34maws-java-sample\u001b[m\u001b[m/\r\n",
      "\u001b[34mbazel-0.4.4-dist\u001b[m\u001b[m/\r\n",
      "\u001b[34mberkleleydeeprlcourse\u001b[m\u001b[m/\r\n",
      "\u001b[34mbibi\u001b[m\u001b[m/\r\n",
      "\u001b[34mbonsai\u001b[m\u001b[m/\r\n",
      "\u001b[34mbooks\u001b[m\u001b[m/\r\n",
      "\u001b[34mchatbot-rnn\u001b[m\u001b[m/\r\n",
      "\u001b[34mcircuits\u001b[m\u001b[m/\r\n",
      "\u001b[34mcommoncrawl\u001b[m\u001b[m/\r\n",
      "\u001b[34mcplusplus\u001b[m\u001b[m/\r\n",
      "\u001b[34mcs231n\u001b[m\u001b[m/\r\n",
      "\u001b[34mdataset\u001b[m\u001b[m/\r\n",
      "\u001b[34mdebug\u001b[m\u001b[m/\r\n",
      "\u001b[34mdeeplearning\u001b[m\u001b[m/\r\n",
      "\u001b[34mdeeplearningschool\u001b[m\u001b[m/\r\n",
      "\u001b[34mdeeprllab\u001b[m\u001b[m/\r\n",
      "eclipse-jee-neon-1-macosx-cocoa-x86_64.tar\r\n",
      "example_grid1.jpg\r\n",
      "\u001b[34mfbmessenger\u001b[m\u001b[m/\r\n",
      "file\r\n",
      "\u001b[34mgit\u001b[m\u001b[m/\r\n",
      "\u001b[34mgo\u001b[m\u001b[m/\r\n",
      "go1.6.2.linux-amd64.tar.gz\r\n",
      "\u001b[34mgoogle-cloud-sdk\u001b[m\u001b[m/\r\n",
      "google_compute_engine\r\n",
      "\u001b[34mgraphDayFundamentals\u001b[m\u001b[m/\r\n",
      "\u001b[34mgraphs\u001b[m\u001b[m/\r\n",
      "\u001b[34miCloud Drive (Archive)\u001b[m\u001b[m/\r\n",
      "\u001b[34mindia trip\u001b[m\u001b[m/\r\n",
      "intellij-soapui-workspace.xml\r\n",
      "\u001b[34mjavacode\u001b[m\u001b[m/\r\n",
      "\u001b[34mjaxrs-ri\u001b[m\u001b[m/\r\n",
      "\u001b[34mkubernetes\u001b[m\u001b[m/\r\n",
      "mac-sim.app.zip\r\n",
      "\u001b[34mmjpro131\u001b[m\u001b[m/\r\n",
      "\u001b[34mmongoose-os\u001b[m\u001b[m/\r\n",
      "\u001b[34mmujoco-py\u001b[m\u001b[m/\r\n",
      "my-ssh-key\r\n",
      "\u001b[34mmyproject\u001b[m\u001b[m/\r\n",
      "\u001b[34mmysql\u001b[m\u001b[m/\r\n",
      "\u001b[34mnetty-4.1.4.Final\u001b[m\u001b[m/\r\n",
      "\u001b[30m\u001b[43mnode\u001b[m\u001b[m/\r\n",
      "octave-workspace\r\n",
      "\u001b[34mopencv\u001b[m\u001b[m/\r\n",
      "\u001b[34moracleIOT\u001b[m\u001b[m/\r\n",
      "outfile0.jpg\r\n",
      "outfile9.jpg\r\n",
      "\u001b[34mparticle-iot\u001b[m\u001b[m/\r\n",
      "\u001b[31mpassgen.sh\u001b[m\u001b[m*\r\n",
      "\u001b[34mpaypal\u001b[m\u001b[m/\r\n",
      "pong.py\r\n",
      "\u001b[34mpubsubclient-master\u001b[m\u001b[m/\r\n",
      "pyplot.py\r\n",
      "\u001b[34mraspberrypi\u001b[m\u001b[m/\r\n",
      "sample.jpg\r\n",
      "\u001b[34msd_applications\u001b[m\u001b[m/\r\n",
      "segment.paths.gz\r\n",
      "server.js\r\n",
      "\u001b[34msimple-service\u001b[m\u001b[m/\r\n",
      "soapui-settings.xml\r\n",
      "\u001b[31msparVM_ssh.sh\u001b[m\u001b[m*\r\n",
      "\u001b[34mswift_project\u001b[m\u001b[m/\r\n",
      "\u001b[34mtensorboard\u001b[m\u001b[m/\r\n",
      "\u001b[34mtensorflow\u001b[m\u001b[m/\r\n",
      "\u001b[34mtensorflow_back\u001b[m\u001b[m/\r\n",
      "\u001b[34mtest\u001b[m\u001b[m/\r\n",
      "\u001b[34mtest_images\u001b[m\u001b[m/\r\n",
      "test_images.zip\r\n",
      "tsne3.png\r\n",
      "\u001b[34mtsne_python\u001b[m\u001b[m/\r\n",
      "\u001b[34mwebdevelopment\u001b[m\u001b[m/\r\n",
      "\u001b[34mwebprojects\u001b[m\u001b[m/\r\n"
     ]
    }
   ],
   "source": [
    "ls"
   ]
  },
  {
   "cell_type": "code",
   "execution_count": null,
   "metadata": {
    "collapsed": false
   },
   "outputs": [
    {
     "name": "stdout",
     "output_type": "stream",
     "text": [
      "outdir:result step:15 episode:0 R:15.0\n",
      "statistics:[(u'average_q', 12.368850708979599), (u'average_loss', 0.585744226739545)]\n",
      "outdir:result step:25 episode:1 R:10.0\n",
      "statistics:[(u'average_q', 12.427505000192768), (u'average_loss', 0.585453625865528)]\n",
      "outdir:result step:37 episode:2 R:12.0\n",
      "statistics:[(u'average_q', 12.493370433376787), (u'average_loss', 0.5838082273837416)]\n",
      "outdir:result step:51 episode:3 R:14.0\n",
      "statistics:[(u'average_q', 12.5585641897944), (u'average_loss', 0.591990578029855)]\n",
      "outdir:result step:65 episode:4 R:14.0\n",
      "statistics:[(u'average_q', 12.628557601632549), (u'average_loss', 0.5916609175030797)]\n",
      "outdir:result step:86 episode:5 R:21.0\n",
      "statistics:[(u'average_q', 12.732738894275212), (u'average_loss', 0.6367328541630722)]\n",
      "outdir:result step:95 episode:6 R:9.0\n",
      "statistics:[(u'average_q', 12.785399766745888), (u'average_loss', 0.6297449793037597)]\n",
      "outdir:result step:107 episode:7 R:12.0\n",
      "statistics:[(u'average_q', 12.852770482330733), (u'average_loss', 0.6278774889204287)]\n",
      "outdir:result step:120 episode:8 R:13.0\n",
      "statistics:[(u'average_q', 12.911721653536807), (u'average_loss', 0.6416314451742838)]\n",
      "outdir:result step:132 episode:9 R:12.0\n",
      "statistics:[(u'average_q', 12.979613760385835), (u'average_loss', 0.6354030984690784)]\n",
      "outdir:result step:143 episode:10 R:11.0\n",
      "statistics:[(u'average_q', 13.033775580642873), (u'average_loss', 0.6351025771082516)]\n",
      "outdir:result step:157 episode:11 R:14.0\n",
      "statistics:[(u'average_q', 13.104962869813681), (u'average_loss', 0.6253025043041706)]\n",
      "outdir:result step:168 episode:12 R:11.0\n",
      "statistics:[(u'average_q', 13.168007376061523), (u'average_loss', 0.6181901223038215)]\n",
      "outdir:result step:183 episode:13 R:15.0\n",
      "statistics:[(u'average_q', 13.243521213537592), (u'average_loss', 0.6417490648753341)]\n",
      "outdir:result step:193 episode:14 R:10.0\n",
      "statistics:[(u'average_q', 13.296587677874037), (u'average_loss', 0.6097613066432808)]\n",
      "outdir:result step:205 episode:15 R:12.0\n",
      "statistics:[(u'average_q', 13.351042083999586), (u'average_loss', 0.6222604147098489)]\n",
      "outdir:result step:215 episode:16 R:10.0\n",
      "statistics:[(u'average_q', 13.402450288395329), (u'average_loss', 0.6310268182757872)]\n",
      "outdir:result step:226 episode:17 R:11.0\n",
      "statistics:[(u'average_q', 13.455055202979407), (u'average_loss', 0.6730009977433212)]\n",
      "outdir:result step:235 episode:18 R:9.0\n",
      "statistics:[(u'average_q', 13.503851474160342), (u'average_loss', 0.6829460695732578)]\n",
      "outdir:result step:253 episode:19 R:18.0\n",
      "statistics:[(u'average_q', 13.586045150905722), (u'average_loss', 0.7044611677495393)]\n",
      "outdir:result step:262 episode:20 R:9.0\n",
      "statistics:[(u'average_q', 13.6253339966763), (u'average_loss', 0.6851278811374001)]\n",
      "outdir:result step:277 episode:21 R:15.0\n",
      "statistics:[(u'average_q', 13.69881855061409), (u'average_loss', 0.7333536157639877)]\n",
      "outdir:result step:288 episode:22 R:11.0\n",
      "statistics:[(u'average_q', 13.758575130600567), (u'average_loss', 0.7420615158722978)]\n",
      "outdir:result step:298 episode:23 R:10.0\n",
      "statistics:[(u'average_q', 13.810852828047619), (u'average_loss', 0.7146236502238384)]\n",
      "outdir:result step:309 episode:24 R:11.0\n",
      "statistics:[(u'average_q', 13.867826679613184), (u'average_loss', 0.7294375169719755)]\n",
      "outdir:result step:319 episode:25 R:10.0\n",
      "statistics:[(u'average_q', 13.91703505110782), (u'average_loss', 0.7081862237999543)]\n",
      "outdir:result step:330 episode:26 R:11.0\n",
      "statistics:[(u'average_q', 13.976557136222437), (u'average_loss', 0.7012248788850893)]\n",
      "outdir:result step:339 episode:27 R:9.0\n",
      "statistics:[(u'average_q', 14.02118424912036), (u'average_loss', 0.7090649863466397)]\n",
      "outdir:result step:350 episode:28 R:11.0\n",
      "statistics:[(u'average_q', 14.078416699406205), (u'average_loss', 0.7136554028620702)]\n",
      "outdir:result step:359 episode:29 R:9.0\n",
      "statistics:[(u'average_q', 14.123221736128956), (u'average_loss', 0.7245746017106063)]\n",
      "outdir:result step:372 episode:30 R:13.0\n",
      "statistics:[(u'average_q', 14.183116134506154), (u'average_loss', 0.6955805117567334)]\n",
      "outdir:result step:382 episode:31 R:10.0\n",
      "statistics:[(u'average_q', 14.234323829673135), (u'average_loss', 0.7043227090029349)]\n",
      "outdir:result step:391 episode:32 R:9.0\n",
      "statistics:[(u'average_q', 14.273799943637751), (u'average_loss', 0.7331685638685498)]\n",
      "outdir:result step:405 episode:33 R:14.0\n",
      "statistics:[(u'average_q', 14.33177912248325), (u'average_loss', 0.7181426412441061)]\n",
      "outdir:result step:416 episode:34 R:11.0\n",
      "statistics:[(u'average_q', 14.383997710668563), (u'average_loss', 0.6921045020977576)]\n",
      "outdir:result step:427 episode:35 R:11.0\n",
      "statistics:[(u'average_q', 14.438775150111509), (u'average_loss', 0.6932017408969617)]\n",
      "outdir:result step:437 episode:36 R:10.0\n",
      "statistics:[(u'average_q', 14.488754485840095), (u'average_loss', 0.7042150814251014)]\n",
      "outdir:result step:447 episode:37 R:10.0\n",
      "statistics:[(u'average_q', 14.541842907630466), (u'average_loss', 0.691323507265734)]\n",
      "outdir:result step:458 episode:38 R:11.0\n",
      "statistics:[(u'average_q', 14.597403470777872), (u'average_loss', 0.7172831199844324)]\n"
     ]
    }
   ],
   "source": [
    "import logging\n",
    "import sys\n",
    "gym.undo_logger_setup()  # Turn off gym's default logger settings\n",
    "logging.basicConfig(level=logging.INFO, stream=sys.stdout, format='')\n",
    "\n",
    "chainerrl.experiments.train_agent_with_evaluation(\n",
    "    agent, env,\n",
    "    steps=2000,           # Train the agent for 2000 steps\n",
    "    eval_n_runs=10,       # 10 episodes are sampled for each evaluation\n",
    "    max_episode_len=200,  # Maximum length of each episodes\n",
    "    eval_interval=1000,   # Evaluate the agent after every 1000 steps\n",
    "    outdir='result')      # Save everything to 'result' directory"
   ]
  },
  {
   "cell_type": "code",
   "execution_count": null,
   "metadata": {
    "collapsed": true
   },
   "outputs": [],
   "source": []
  }
 ],
 "metadata": {
  "anaconda-cloud": {},
  "kernelspec": {
   "display_name": "Python [default]",
   "language": "python",
   "name": "python2"
  },
  "language_info": {
   "codemirror_mode": {
    "name": "ipython",
    "version": 2
   },
   "file_extension": ".py",
   "mimetype": "text/x-python",
   "name": "python",
   "nbconvert_exporter": "python",
   "pygments_lexer": "ipython2",
   "version": "2.7.12"
  }
 },
 "nbformat": 4,
 "nbformat_minor": 1
}
